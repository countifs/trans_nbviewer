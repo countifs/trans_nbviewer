{
 "cells": [
  {
   "cell_type": "markdown",
   "metadata": {},
   "source": [
    "# 데이터마이닝 2주차 실습\n",
    "\n",
    "## Linear Regression 2\n",
    "\n",
    "### 회귀분석\n",
    "> 단순히 회귀식을 추정하는 것만 의미하지 않음. 추정된 회귀식이 정말로 종속변수와 독립변수간 변량을 잘 설명할 수 있는 지,   \n",
    "추정된 회귀 계수가 정말로 의미 있는 값인지(0이 아닌지)에 대한 통계적 검정을 해야함\n",
    "\n",
    "1. 회귀 모델 수립\n",
    "2. 설명 변수들 간 다중 공선성 분석\n",
    "3. 회귀식 추정\n",
    "4. 예측 및 평가\n",
    "5. 회귀식 적합성에 대한 통계적 검정\n",
    "6. 회귀계수 유의성에 대한 통계적 검정\n",
    "\n",
    "### Dataset\n",
    ">**※ 프랜차이즈 매장 연간 순 매출액 예측 ※**\n",
    "        \n",
    "        Dataset: All Greens Franchise\n",
    "        The data (X1, X2, X3, X4, X5, X6) are for each franchise store.\n",
    "         X1 = annual net sales / 1000달러 [연간 순 매출액 / 1000달러 : 실질적인 반응변수(y)]\n",
    "         X2 = number sq. ft./1000 [제곱 피트 수(매장 면적) / 1000]\n",
    "         X3 = inventory / 1000달러 [재고 / 1,000달러]\n",
    "         X4 = amount spent on advertizing / 1000달러 [광고 비용 / 1,000달러]\n",
    "         X5 = size of sales district / 1000families [판매 지역의 규모/ 1000가구]\n",
    "         X6 = number of competing stores in district [지역 내 경쟁 상점 수]\n",
    "        data_type: Numeric\n",
    "        http://college.cengage.com/mathematics/brase/understandable_statistics/7e/students/datasets/mlr/frames/frame.html\n",
    "        "
   ]
  },
  {
   "cell_type": "code",
   "execution_count": 1,
   "metadata": {},
   "outputs": [],
   "source": [
    "import numpy as np\n",
    "import pandas as pd\n",
    "# 시각화 package\n",
    "import matplotlib.pyplot as plt\n",
    "import seaborn as sns"
   ]
  },
  {
   "cell_type": "code",
   "execution_count": 2,
   "metadata": {
    "scrolled": true
   },
   "outputs": [
    {
     "data": {
      "text/html": [
       "<div>\n",
       "<style scoped>\n",
       "    .dataframe tbody tr th:only-of-type {\n",
       "        vertical-align: middle;\n",
       "    }\n",
       "\n",
       "    .dataframe tbody tr th {\n",
       "        vertical-align: top;\n",
       "    }\n",
       "\n",
       "    .dataframe thead th {\n",
       "        text-align: right;\n",
       "    }\n",
       "</style>\n",
       "<table border=\"1\" class=\"dataframe\">\n",
       "  <thead>\n",
       "    <tr style=\"text-align: right;\">\n",
       "      <th></th>\n",
       "      <th>sales</th>\n",
       "      <th>sqft</th>\n",
       "      <th>inventory</th>\n",
       "      <th>advertizing</th>\n",
       "      <th>district</th>\n",
       "      <th>competing</th>\n",
       "    </tr>\n",
       "  </thead>\n",
       "  <tbody>\n",
       "    <tr>\n",
       "      <th>0</th>\n",
       "      <td>231.0</td>\n",
       "      <td>3.0</td>\n",
       "      <td>294</td>\n",
       "      <td>8.2</td>\n",
       "      <td>8.200000</td>\n",
       "      <td>11</td>\n",
       "    </tr>\n",
       "    <tr>\n",
       "      <th>1</th>\n",
       "      <td>156.0</td>\n",
       "      <td>2.2</td>\n",
       "      <td>232</td>\n",
       "      <td>6.9</td>\n",
       "      <td>4.100000</td>\n",
       "      <td>12</td>\n",
       "    </tr>\n",
       "    <tr>\n",
       "      <th>2</th>\n",
       "      <td>10.0</td>\n",
       "      <td>0.5</td>\n",
       "      <td>149</td>\n",
       "      <td>3.0</td>\n",
       "      <td>4.300000</td>\n",
       "      <td>15</td>\n",
       "    </tr>\n",
       "    <tr>\n",
       "      <th>3</th>\n",
       "      <td>519.0</td>\n",
       "      <td>5.5</td>\n",
       "      <td>600</td>\n",
       "      <td>12.0</td>\n",
       "      <td>16.100000</td>\n",
       "      <td>1</td>\n",
       "    </tr>\n",
       "    <tr>\n",
       "      <th>4</th>\n",
       "      <td>437.0</td>\n",
       "      <td>4.4</td>\n",
       "      <td>567</td>\n",
       "      <td>10.6</td>\n",
       "      <td>14.100000</td>\n",
       "      <td>5</td>\n",
       "    </tr>\n",
       "    <tr>\n",
       "      <th>5</th>\n",
       "      <td>487.0</td>\n",
       "      <td>4.8</td>\n",
       "      <td>571</td>\n",
       "      <td>11.8</td>\n",
       "      <td>12.700000</td>\n",
       "      <td>4</td>\n",
       "    </tr>\n",
       "    <tr>\n",
       "      <th>6</th>\n",
       "      <td>299.0</td>\n",
       "      <td>3.1</td>\n",
       "      <td>512</td>\n",
       "      <td>8.1</td>\n",
       "      <td>10.100000</td>\n",
       "      <td>10</td>\n",
       "    </tr>\n",
       "    <tr>\n",
       "      <th>7</th>\n",
       "      <td>195.0</td>\n",
       "      <td>2.5</td>\n",
       "      <td>347</td>\n",
       "      <td>7.7</td>\n",
       "      <td>8.400000</td>\n",
       "      <td>12</td>\n",
       "    </tr>\n",
       "    <tr>\n",
       "      <th>8</th>\n",
       "      <td>20.0</td>\n",
       "      <td>1.2</td>\n",
       "      <td>212</td>\n",
       "      <td>3.3</td>\n",
       "      <td>2.100000</td>\n",
       "      <td>15</td>\n",
       "    </tr>\n",
       "    <tr>\n",
       "      <th>9</th>\n",
       "      <td>68.0</td>\n",
       "      <td>0.6</td>\n",
       "      <td>102</td>\n",
       "      <td>4.9</td>\n",
       "      <td>4.700000</td>\n",
       "      <td>8</td>\n",
       "    </tr>\n",
       "    <tr>\n",
       "      <th>10</th>\n",
       "      <td>570.0</td>\n",
       "      <td>5.4</td>\n",
       "      <td>788</td>\n",
       "      <td>17.4</td>\n",
       "      <td>12.300000</td>\n",
       "      <td>1</td>\n",
       "    </tr>\n",
       "    <tr>\n",
       "      <th>11</th>\n",
       "      <td>428.0</td>\n",
       "      <td>4.2</td>\n",
       "      <td>577</td>\n",
       "      <td>10.5</td>\n",
       "      <td>14.000000</td>\n",
       "      <td>7</td>\n",
       "    </tr>\n",
       "    <tr>\n",
       "      <th>12</th>\n",
       "      <td>464.0</td>\n",
       "      <td>4.7</td>\n",
       "      <td>535</td>\n",
       "      <td>11.3</td>\n",
       "      <td>15.000000</td>\n",
       "      <td>3</td>\n",
       "    </tr>\n",
       "    <tr>\n",
       "      <th>13</th>\n",
       "      <td>15.0</td>\n",
       "      <td>0.6</td>\n",
       "      <td>163</td>\n",
       "      <td>2.5</td>\n",
       "      <td>2.500000</td>\n",
       "      <td>14</td>\n",
       "    </tr>\n",
       "    <tr>\n",
       "      <th>14</th>\n",
       "      <td>65.0</td>\n",
       "      <td>1.2</td>\n",
       "      <td>168</td>\n",
       "      <td>4.7</td>\n",
       "      <td>3.300000</td>\n",
       "      <td>11</td>\n",
       "    </tr>\n",
       "    <tr>\n",
       "      <th>15</th>\n",
       "      <td>98.0</td>\n",
       "      <td>1.6</td>\n",
       "      <td>151</td>\n",
       "      <td>4.6</td>\n",
       "      <td>2.700000</td>\n",
       "      <td>10</td>\n",
       "    </tr>\n",
       "    <tr>\n",
       "      <th>16</th>\n",
       "      <td>398.0</td>\n",
       "      <td>4.3</td>\n",
       "      <td>342</td>\n",
       "      <td>5.5</td>\n",
       "      <td>16.000000</td>\n",
       "      <td>4</td>\n",
       "    </tr>\n",
       "    <tr>\n",
       "      <th>17</th>\n",
       "      <td>161.0</td>\n",
       "      <td>2.6</td>\n",
       "      <td>196</td>\n",
       "      <td>7.2</td>\n",
       "      <td>6.300000</td>\n",
       "      <td>13</td>\n",
       "    </tr>\n",
       "    <tr>\n",
       "      <th>18</th>\n",
       "      <td>397.0</td>\n",
       "      <td>3.8</td>\n",
       "      <td>453</td>\n",
       "      <td>10.4</td>\n",
       "      <td>13.900000</td>\n",
       "      <td>7</td>\n",
       "    </tr>\n",
       "    <tr>\n",
       "      <th>19</th>\n",
       "      <td>497.0</td>\n",
       "      <td>5.3</td>\n",
       "      <td>518</td>\n",
       "      <td>11.5</td>\n",
       "      <td>16.299999</td>\n",
       "      <td>1</td>\n",
       "    </tr>\n",
       "    <tr>\n",
       "      <th>20</th>\n",
       "      <td>528.0</td>\n",
       "      <td>5.6</td>\n",
       "      <td>615</td>\n",
       "      <td>12.3</td>\n",
       "      <td>16.000000</td>\n",
       "      <td>0</td>\n",
       "    </tr>\n",
       "    <tr>\n",
       "      <th>21</th>\n",
       "      <td>99.0</td>\n",
       "      <td>0.8</td>\n",
       "      <td>278</td>\n",
       "      <td>2.8</td>\n",
       "      <td>6.500000</td>\n",
       "      <td>14</td>\n",
       "    </tr>\n",
       "    <tr>\n",
       "      <th>22</th>\n",
       "      <td>0.5</td>\n",
       "      <td>1.1</td>\n",
       "      <td>142</td>\n",
       "      <td>3.1</td>\n",
       "      <td>1.600000</td>\n",
       "      <td>12</td>\n",
       "    </tr>\n",
       "    <tr>\n",
       "      <th>23</th>\n",
       "      <td>347.0</td>\n",
       "      <td>3.6</td>\n",
       "      <td>461</td>\n",
       "      <td>9.6</td>\n",
       "      <td>11.300000</td>\n",
       "      <td>6</td>\n",
       "    </tr>\n",
       "    <tr>\n",
       "      <th>24</th>\n",
       "      <td>341.0</td>\n",
       "      <td>3.5</td>\n",
       "      <td>382</td>\n",
       "      <td>9.8</td>\n",
       "      <td>11.500000</td>\n",
       "      <td>5</td>\n",
       "    </tr>\n",
       "    <tr>\n",
       "      <th>25</th>\n",
       "      <td>507.0</td>\n",
       "      <td>5.1</td>\n",
       "      <td>590</td>\n",
       "      <td>12.0</td>\n",
       "      <td>15.700000</td>\n",
       "      <td>0</td>\n",
       "    </tr>\n",
       "    <tr>\n",
       "      <th>26</th>\n",
       "      <td>400.0</td>\n",
       "      <td>8.6</td>\n",
       "      <td>517</td>\n",
       "      <td>7.0</td>\n",
       "      <td>12.000000</td>\n",
       "      <td>8</td>\n",
       "    </tr>\n",
       "  </tbody>\n",
       "</table>\n",
       "</div>"
      ],
      "text/plain": [
       "    sales  sqft  inventory  advertizing   district  competing\n",
       "0   231.0   3.0        294          8.2   8.200000         11\n",
       "1   156.0   2.2        232          6.9   4.100000         12\n",
       "2    10.0   0.5        149          3.0   4.300000         15\n",
       "3   519.0   5.5        600         12.0  16.100000          1\n",
       "4   437.0   4.4        567         10.6  14.100000          5\n",
       "5   487.0   4.8        571         11.8  12.700000          4\n",
       "6   299.0   3.1        512          8.1  10.100000         10\n",
       "7   195.0   2.5        347          7.7   8.400000         12\n",
       "8    20.0   1.2        212          3.3   2.100000         15\n",
       "9    68.0   0.6        102          4.9   4.700000          8\n",
       "10  570.0   5.4        788         17.4  12.300000          1\n",
       "11  428.0   4.2        577         10.5  14.000000          7\n",
       "12  464.0   4.7        535         11.3  15.000000          3\n",
       "13   15.0   0.6        163          2.5   2.500000         14\n",
       "14   65.0   1.2        168          4.7   3.300000         11\n",
       "15   98.0   1.6        151          4.6   2.700000         10\n",
       "16  398.0   4.3        342          5.5  16.000000          4\n",
       "17  161.0   2.6        196          7.2   6.300000         13\n",
       "18  397.0   3.8        453         10.4  13.900000          7\n",
       "19  497.0   5.3        518         11.5  16.299999          1\n",
       "20  528.0   5.6        615         12.3  16.000000          0\n",
       "21   99.0   0.8        278          2.8   6.500000         14\n",
       "22    0.5   1.1        142          3.1   1.600000         12\n",
       "23  347.0   3.6        461          9.6  11.300000          6\n",
       "24  341.0   3.5        382          9.8  11.500000          5\n",
       "25  507.0   5.1        590         12.0  15.700000          0\n",
       "26  400.0   8.6        517          7.0  12.000000          8"
      ]
     },
     "execution_count": 2,
     "metadata": {},
     "output_type": "execute_result"
    }
   ],
   "source": [
    "# Load dataset\n",
    "Sales_data = pd.read_csv('franchies.csv')\n",
    "Sales_data.columns = ['sales','sqft','inventory','advertizing','district','competing'] \n",
    "Sales_data"
   ]
  },
  {
   "cell_type": "markdown",
   "metadata": {},
   "source": [
    "## 1. Regression model\n",
    "+ X : `sqft`,`inventory`,`advertizing`,`district`,`competing`\n",
    "+ y : `sales`"
   ]
  },
  {
   "cell_type": "code",
   "execution_count": 3,
   "metadata": {},
   "outputs": [
    {
     "name": "stdout",
     "output_type": "stream",
     "text": [
      "(27, 5) (27,)\n"
     ]
    }
   ],
   "source": [
    "X = Sales_data[['sqft','inventory','advertizing','district','competing']].copy()\n",
    "y = Sales_data['sales'].copy()\n",
    "print(X.shape, y.shape)"
   ]
  },
  {
   "cell_type": "markdown",
   "metadata": {},
   "source": [
    "## 2. 다중공선성(Multicollinearity)\n",
    "독립변수끼리 높은 상관관계를 가지면 다중공선성이 발생\n",
    "> 1. F검정은 통과했으나 각각의 회귀계수가 t검정을 통과하지 못하는 경우\n",
    "> 2. 예상하던 것과 달리 회귀계수의 부호가 반대일 정도로 괴리가 큰 경우\n",
    "> 3. 데이터를 추가하거나 제거할 때 기존의 회귀계수가 극심하게 많이 변하는 경우\n",
    "\n",
    "+ 다중공선성 확인방법 : 산점도/상관관계 또는 VIF\n",
    "+ 해결방법 : 정규화, 변수제거, PCA \n",
    "\n",
    "### 2.1 Correlation\n",
    "Interpretation of the Pearson correlation coefficients (Rules of Thumbs)\n",
    "\n",
    "|Size of Correlaiton | Interpretation |\n",
    "|:---------:|------:|\n",
    "|.8 to 1.0 | Very strong | \n",
    "|.6 to .8 | Strong |\n",
    "|.4 to .6 | Moderate |\n",
    "|.2 to .4 | Weak |\n",
    "|.0 to .2 | Very weak |\n",
    "\n",
    "보통 상관계수가 0.9 정도 이상이면 다중공선성이 존재"
   ]
  },
  {
   "cell_type": "code",
   "execution_count": 4,
   "metadata": {},
   "outputs": [
    {
     "data": {
      "text/plain": [
       "<AxesSubplot:>"
      ]
     },
     "execution_count": 4,
     "metadata": {},
     "output_type": "execute_result"
    },
    {
     "data": {
      "image/png": "[encoded data removed]",
      "text/plain": [
       "<Figure size 432x288 with 2 Axes>"
      ]
     },
     "metadata": {
      "needs_background": "light"
     },
     "output_type": "display_data"
    }
   ],
   "source": [
    "sns.heatmap(X.corr(), cmap=\"Blues\", annot = True)"
   ]
  },
  {
   "cell_type": "markdown",
   "metadata": {},
   "source": [
    "### 2.2 분산팽창요인(VIF)\n",
    "$VIF_k = \\frac1{1-R_k^2},\\,\\,\\,\\,$\n",
    "($R_k^2 = X_k$를 종속변수로 두고 나머지 독립변수로 회귀분석을 했을 때 결정계수 )\n",
    "+ 다중공선성의 정도를 의미, 보통 VIF 값이 10 이상이면 다중공선성 존재  \n",
    "https://en.wikipedia.org/wiki/Variance_inflation_factor"
   ]
  },
  {
   "cell_type": "code",
   "execution_count": 5,
   "metadata": {},
   "outputs": [],
   "source": [
    "# !pip install statsmodels\n",
    "from statsmodels.stats.outliers_influence import variance_inflation_factor"
   ]
  },
  {
   "cell_type": "code",
   "execution_count": 6,
   "metadata": {},
   "outputs": [
    {
     "data": {
      "text/html": [
       "<div>\n",
       "<style scoped>\n",
       "    .dataframe tbody tr th:only-of-type {\n",
       "        vertical-align: middle;\n",
       "    }\n",
       "\n",
       "    .dataframe tbody tr th {\n",
       "        vertical-align: top;\n",
       "    }\n",
       "\n",
       "    .dataframe thead th {\n",
       "        text-align: right;\n",
       "    }\n",
       "</style>\n",
       "<table border=\"1\" class=\"dataframe\">\n",
       "  <thead>\n",
       "    <tr style=\"text-align: right;\">\n",
       "      <th></th>\n",
       "      <th>feature</th>\n",
       "      <th>VIF</th>\n",
       "    </tr>\n",
       "  </thead>\n",
       "  <tbody>\n",
       "    <tr>\n",
       "      <th>0</th>\n",
       "      <td>sqft</td>\n",
       "      <td>4.2</td>\n",
       "    </tr>\n",
       "    <tr>\n",
       "      <th>1</th>\n",
       "      <td>inventory</td>\n",
       "      <td>10.1</td>\n",
       "    </tr>\n",
       "    <tr>\n",
       "      <th>2</th>\n",
       "      <td>advertizing</td>\n",
       "      <td>7.6</td>\n",
       "    </tr>\n",
       "    <tr>\n",
       "      <th>3</th>\n",
       "      <td>district</td>\n",
       "      <td>6.9</td>\n",
       "    </tr>\n",
       "    <tr>\n",
       "      <th>4</th>\n",
       "      <td>competing</td>\n",
       "      <td>5.8</td>\n",
       "    </tr>\n",
       "    <tr>\n",
       "      <th>5</th>\n",
       "      <td>intercept</td>\n",
       "      <td>78.8</td>\n",
       "    </tr>\n",
       "  </tbody>\n",
       "</table>\n",
       "</div>"
      ],
      "text/plain": [
       "       feature   VIF\n",
       "0         sqft   4.2\n",
       "1    inventory  10.1\n",
       "2  advertizing   7.6\n",
       "3     district   6.9\n",
       "4    competing   5.8\n",
       "5    intercept  78.8"
      ]
     },
     "execution_count": 6,
     "metadata": {},
     "output_type": "execute_result"
    }
   ],
   "source": [
    "# detecting multicollinearity with VIF\n",
    "# calculating VIF for each feature\n",
    "X1=X.copy()\n",
    "X1['intercept'] = 1 # w/ intercept\n",
    "vif = pd.DataFrame()\n",
    "vif[\"feature\"] = X1.columns\n",
    "vif[\"VIF\"] = [variance_inflation_factor(X1.values, i) for i in range(len(X1.columns))]\n",
    "vif.round(1)"
   ]
  },
  {
   "cell_type": "markdown",
   "metadata": {},
   "source": [
    "inventory를 제외한 나머지 변수들은 다중공선성을 띄지 않는 것으로 보임"
   ]
  },
  {
   "cell_type": "markdown",
   "metadata": {
    "tags": []
   },
   "source": [
    "## 3.Regression equation"
   ]
  },
  {
   "cell_type": "code",
   "execution_count": 7,
   "metadata": {},
   "outputs": [],
   "source": [
    "from sklearn.linear_model import LinearRegression"
   ]
  },
  {
   "cell_type": "code",
   "execution_count": 8,
   "metadata": {},
   "outputs": [
    {
     "data": {
      "text/plain": [
       "LinearRegression()"
      ]
     },
     "execution_count": 8,
     "metadata": {},
     "output_type": "execute_result"
    }
   ],
   "source": [
    "# 모델 객체 생성,\n",
    "m_reg = LinearRegression(fit_intercept = True) # fit_intercept -> beta0 생성 여부\n",
    "m_reg.fit(X, y) # 모델 학습"
   ]
  },
  {
   "cell_type": "code",
   "execution_count": 9,
   "metadata": {},
   "outputs": [
    {
     "data": {
      "text/plain": [
       "-18.859414160020606"
      ]
     },
     "execution_count": 9,
     "metadata": {},
     "output_type": "execute_result"
    }
   ],
   "source": [
    "m_reg.intercept_ # 절편 b0"
   ]
  },
  {
   "cell_type": "code",
   "execution_count": 10,
   "metadata": {},
   "outputs": [
    {
     "data": {
      "text/plain": [
       "array([16.20157356,  0.17463515, 11.52626903, 13.5803129 , -5.31097141])"
      ]
     },
     "execution_count": 10,
     "metadata": {},
     "output_type": "execute_result"
    }
   ],
   "source": [
    "m_reg.coef_ # 회귀계수 b1,b2,..."
   ]
  },
  {
   "cell_type": "code",
   "execution_count": 11,
   "metadata": {},
   "outputs": [
    {
     "name": "stdout",
     "output_type": "stream",
     "text": [
      "y=-18.859 + 16.202x1 + 0.175x2 + 11.526x3 + 13.58x4 + -5.311x5\n"
     ]
    }
   ],
   "source": [
    "# 회귀식\n",
    "intercept = np.round(m_reg.intercept_,3)\n",
    "coef = np.round(m_reg.coef_,3)\n",
    "print('y={} + {}x1 + {}x2 + {}x3 + {}x4 + {}x5'.format(intercept,\n",
    "                                                       coef[0],coef[1],coef[2],coef[3],coef[4]))"
   ]
  },
  {
   "cell_type": "code",
   "execution_count": 12,
   "metadata": {},
   "outputs": [
    {
     "data": {
      "image/png": "[encoded data removed]",
      "text/plain": [
       "<Figure size 360x504 with 1 Axes>"
      ]
     },
     "metadata": {
      "needs_background": "light"
     },
     "output_type": "display_data"
    }
   ],
   "source": [
    "# coef-plot\n",
    "coef_df = pd.DataFrame(coef, index = X.columns, columns = ['coef'])\n",
    "coef_df = coef_df.sort_values(by=['coef'])\n",
    "\n",
    "plt.rc('font', size=20)\n",
    "fig, ax = plt.subplots(figsize=(5, 7))\n",
    "ax.scatter(x=coef_df, y=coef_df.index, marker='o', s=90, color='k')\n",
    "ax.axvline(x=0, linestyle='--', color='Orange')\n",
    "plt.title('Coefficients')\n",
    "plt.show()"
   ]
  },
  {
   "cell_type": "markdown",
   "metadata": {},
   "source": [
    "## 4. 예측 및 성능 확인"
   ]
  },
  {
   "cell_type": "code",
   "execution_count": 13,
   "metadata": {},
   "outputs": [
    {
     "name": "stdout",
     "output_type": "stream",
     "text": [
      "[228.541 128.778  28.572 526.678 438.552 445.861 298.193 221.338  24.496\n",
      "  86.493 568.526 423.925 468.736   7.74   70.489  70.011 369.968 156.996\n",
      " 393.279 506.07  538.328  88.842  17.489 352.217 347.133 518.329 411.92 ]\n"
     ]
    }
   ],
   "source": [
    "# predict\n",
    "pred_y = m_reg.predict(X)\n",
    "print(np.round(list(pred_y),3))"
   ]
  },
  {
   "cell_type": "markdown",
   "metadata": {},
   "source": [
    "### 4.1 R-squared와 Adjusted_R-squard의 차이점\n",
    "$Adj\\,\\,R^2 = 1 - (1-R^2)\\frac{n-1}{n-p-1}$,  \n",
    "where $p=$ number of predictors, n=total sample size.\n",
    "> + 독립 변수를 모델에 추가할 때마다 독립 변수가 미미하더라도 R-squared는 증가함. 결코 줄어들지 않음.   \n",
    "반면, Adjusted R-Squared는 독립 변수가 유의하고 종속 변수에 영향을 미칠 때만 증가\n",
    "> + Adjusted_R-squared는 R-squared가 0에 가까울 때 음수가 될 수 있다.\n",
    "> + Adjusted_R-squared 값은 항상 R-squared 값보다 작거나 같다."
   ]
  },
  {
   "cell_type": "code",
   "execution_count": 14,
   "metadata": {},
   "outputs": [
    {
     "name": "stdout",
     "output_type": "stream",
     "text": [
      "R-Squared : 0.993\n"
     ]
    }
   ],
   "source": [
    "# R-squared\n",
    "r2 = round(m_reg.score(X, y),3)\n",
    "print(\"R-Squared :\", r2)"
   ]
  },
  {
   "cell_type": "code",
   "execution_count": 15,
   "metadata": {},
   "outputs": [
    {
     "name": "stdout",
     "output_type": "stream",
     "text": [
      "Adjusted R-Squared : 0.991\n"
     ]
    }
   ],
   "source": [
    "# Adjusted R-Squared\n",
    "n,p = X.shape\n",
    "adj_r2 = 1 - (1-r2) * (n-1) / (n-p-1)\n",
    "print(\"Adjusted R-Squared :\", round(adj_r2,3))"
   ]
  },
  {
   "cell_type": "code",
   "execution_count": 16,
   "metadata": {},
   "outputs": [
    {
     "data": {
      "text/plain": [
       "15.565168074037189"
      ]
     },
     "execution_count": 16,
     "metadata": {},
     "output_type": "execute_result"
    }
   ],
   "source": [
    "# MSE : 관측값과의 차이가 얼마나 있는지 말해주는 수치\n",
    "from sklearn.metrics import mean_squared_error\n",
    "mean_squared_error(y, pred_y, squared=False)"
   ]
  },
  {
   "cell_type": "code",
   "execution_count": 17,
   "metadata": {},
   "outputs": [
    {
     "data": {
      "image/png": "[encoded data removed]",
      "text/plain": [
       "<Figure size 432x288 with 1 Axes>"
      ]
     },
     "metadata": {
      "needs_background": "light"
     },
     "output_type": "display_data"
    }
   ],
   "source": [
    "# 실제 y값과 예측한 y햇의 관계\n",
    "plt.scatter(pred_y, y)\n",
    "line = np.linspace(min(y.values), max(y.values), 1000)\n",
    "plt.plot(line, line, color = 'r')\n",
    "plt.xlabel('pred_y')\n",
    "plt.ylabel('y')\n",
    "plt.show()"
   ]
  },
  {
   "cell_type": "markdown",
   "metadata": {
    "tags": []
   },
   "source": [
    "## 5. 회귀식의 적합성\n",
    "\n",
    "#### f-test, F-value\n",
    "+ F-value : 가설 $\\mathbf{\\beta_1,\\beta_2},...=0$(선형관계인 것이 없다)에 대한 검정통계량\n",
    "+ $F = \\frac{SS(mean) - SS(fit)\\,/\\,(p_{fit} - p_{mean})}{SS(fit)\\,/\\,(n-p_{fit})}$\n",
    "+ $F$ : 회귀식으로 설명되는 변동 / 설명되지 않는 변동 (선형관계)\n",
    "+ $R^2$ : 회귀식으로 설명되는 변동/ 평균으로부터의 변동 (설명력)\n",
    "+ Degree of freedom (자유도)\n",
    "    + 참고 : https://brunch.co.kr/@zhoyp/174"
   ]
  },
  {
   "cell_type": "code",
   "execution_count": 18,
   "metadata": {},
   "outputs": [
    {
     "data": {
      "text/plain": [
       "(27, 5)"
      ]
     },
     "execution_count": 18,
     "metadata": {},
     "output_type": "execute_result"
    }
   ],
   "source": [
    "# n : total sample size, p : number of predictors\n",
    "n,p = X.shape\n",
    "n,p"
   ]
  },
  {
   "cell_type": "code",
   "execution_count": 19,
   "metadata": {},
   "outputs": [
    {
     "name": "stdout",
     "output_type": "stream",
     "text": [
      "611.5903672370399\n"
     ]
    }
   ],
   "source": [
    "# F-value\n",
    "y_bar = np.mean(y.values)\n",
    "SS_mean = sum((y - y_bar)**2)\n",
    "SS_fit = sum((y - pred_y)**2)\n",
    "\n",
    "F = ((SS_mean - SS_fit) / ((p+1)-1)) / (SS_fit / (n-(p+1)))\n",
    "print(F)"
   ]
  },
  {
   "cell_type": "code",
   "execution_count": 20,
   "metadata": {},
   "outputs": [
    {
     "data": {
      "text/plain": [
       "1.1102230246251565e-16"
      ]
     },
     "execution_count": 20,
     "metadata": {},
     "output_type": "execute_result"
    }
   ],
   "source": [
    "from scipy import stats # scipy.stats 확률분포 분석을 위한 기능을 제공\n",
    "pvalue = 1-stats.f.cdf(611,p-1,n-p-1) # cdf : 누적분포함수\n",
    "pvalue\n",
    "#print(format(pvalue,'.20f'))"
   ]
  },
  {
   "cell_type": "markdown",
   "metadata": {},
   "source": [
    "## 6. 회귀계수의 유의성\n",
    "+ t-test, $H_0 : \\beta_i = 0, H_1 : \\beta_i \\neq 0$"
   ]
  },
  {
   "cell_type": "code",
   "execution_count": 21,
   "metadata": {},
   "outputs": [],
   "source": [
    "import statsmodels.api as sm"
   ]
  },
  {
   "cell_type": "code",
   "execution_count": 22,
   "metadata": {},
   "outputs": [
    {
     "data": {
      "text/html": [
       "<table class=\"simpletable\">\n",
       "<caption>OLS Regression Results</caption>\n",
       "<tr>\n",
       "  <th>Dep. Variable:</th>          <td>sales</td>      <th>  R-squared:         </th> <td>   0.993</td>\n",
       "</tr>\n",
       "<tr>\n",
       "  <th>Model:</th>                   <td>OLS</td>       <th>  Adj. R-squared:    </th> <td>   0.992</td>\n",
       "</tr>\n",
       "<tr>\n",
       "  <th>Method:</th>             <td>Least Squares</td>  <th>  F-statistic:       </th> <td>   611.6</td>\n",
       "</tr>\n",
       "<tr>\n",
       "  <th>Date:</th>             <td>Thu, 03 Mar 2022</td> <th>  Prob (F-statistic):</th> <td>5.40e-22</td>\n",
       "</tr>\n",
       "<tr>\n",
       "  <th>Time:</th>                 <td>16:58:23</td>     <th>  Log-Likelihood:    </th> <td> -112.43</td>\n",
       "</tr>\n",
       "<tr>\n",
       "  <th>No. Observations:</th>      <td>    27</td>      <th>  AIC:               </th> <td>   236.9</td>\n",
       "</tr>\n",
       "<tr>\n",
       "  <th>Df Residuals:</th>          <td>    21</td>      <th>  BIC:               </th> <td>   244.6</td>\n",
       "</tr>\n",
       "<tr>\n",
       "  <th>Df Model:</th>              <td>     5</td>      <th>                     </th>     <td> </td>   \n",
       "</tr>\n",
       "<tr>\n",
       "  <th>Covariance Type:</th>      <td>nonrobust</td>    <th>                     </th>     <td> </td>   \n",
       "</tr>\n",
       "</table>\n",
       "<table class=\"simpletable\">\n",
       "<tr>\n",
       "       <td></td>          <th>coef</th>     <th>std err</th>      <th>t</th>      <th>P>|t|</th>  <th>[0.025</th>    <th>0.975]</th>  \n",
       "</tr>\n",
       "<tr>\n",
       "  <th>const</th>       <td>  -18.8594</td> <td>   30.150</td> <td>   -0.626</td> <td> 0.538</td> <td>  -81.560</td> <td>   43.841</td>\n",
       "</tr>\n",
       "<tr>\n",
       "  <th>sqft</th>        <td>   16.2016</td> <td>    3.544</td> <td>    4.571</td> <td> 0.000</td> <td>    8.831</td> <td>   23.573</td>\n",
       "</tr>\n",
       "<tr>\n",
       "  <th>inventory</th>   <td>    0.1746</td> <td>    0.058</td> <td>    3.032</td> <td> 0.006</td> <td>    0.055</td> <td>    0.294</td>\n",
       "</tr>\n",
       "<tr>\n",
       "  <th>advertizing</th> <td>   11.5263</td> <td>    2.532</td> <td>    4.552</td> <td> 0.000</td> <td>    6.260</td> <td>   16.792</td>\n",
       "</tr>\n",
       "<tr>\n",
       "  <th>district</th>    <td>   13.5803</td> <td>    1.770</td> <td>    7.671</td> <td> 0.000</td> <td>    9.898</td> <td>   17.262</td>\n",
       "</tr>\n",
       "<tr>\n",
       "  <th>competing</th>   <td>   -5.3110</td> <td>    1.705</td> <td>   -3.114</td> <td> 0.005</td> <td>   -8.858</td> <td>   -1.764</td>\n",
       "</tr>\n",
       "</table>\n",
       "<table class=\"simpletable\">\n",
       "<tr>\n",
       "  <th>Omnibus:</th>       <td> 5.650</td> <th>  Durbin-Watson:     </th> <td>   1.789</td>\n",
       "</tr>\n",
       "<tr>\n",
       "  <th>Prob(Omnibus):</th> <td> 0.059</td> <th>  Jarque-Bera (JB):  </th> <td>   4.041</td>\n",
       "</tr>\n",
       "<tr>\n",
       "  <th>Skew:</th>          <td> 0.916</td> <th>  Prob(JB):          </th> <td>   0.133</td>\n",
       "</tr>\n",
       "<tr>\n",
       "  <th>Kurtosis:</th>      <td> 3.484</td> <th>  Cond. No.          </th> <td>3.84e+03</td>\n",
       "</tr>\n",
       "</table><br/><br/>Notes:<br/>[1] Standard Errors assume that the covariance matrix of the errors is correctly specified.<br/>[2] The condition number is large, 3.84e+03. This might indicate that there are<br/>strong multicollinearity or other numerical problems."
      ],
      "text/plain": [
       "<class 'statsmodels.iolib.summary.Summary'>\n",
       "\"\"\"\n",
       "                            OLS Regression Results                            \n",
       "==============================================================================\n",
       "Dep. Variable:                  sales   R-squared:                       0.993\n",
       "Model:                            OLS   Adj. R-squared:                  0.992\n",
       "Method:                 Least Squares   F-statistic:                     611.6\n",
       "Date:                Thu, 03 Mar 2022   Prob (F-statistic):           5.40e-22\n",
       "Time:                        16:58:23   Log-Likelihood:                -112.43\n",
       "No. Observations:                  27   AIC:                             236.9\n",
       "Df Residuals:                      21   BIC:                             244.6\n",
       "Df Model:                           5                                         \n",
       "Covariance Type:            nonrobust                                         \n",
       "===============================================================================\n",
       "                  coef    std err          t      P>|t|      [0.025      0.975]\n",
       "-------------------------------------------------------------------------------\n",
       "const         -18.8594     30.150     -0.626      0.538     -81.560      43.841\n",
       "sqft           16.2016      3.544      4.571      0.000       8.831      23.573\n",
       "inventory       0.1746      0.058      3.032      0.006       0.055       0.294\n",
       "advertizing    11.5263      2.532      4.552      0.000       6.260      16.792\n",
       "district       13.5803      1.770      7.671      0.000       9.898      17.262\n",
       "competing      -5.3110      1.705     -3.114      0.005      -8.858      -1.764\n",
       "==============================================================================\n",
       "Omnibus:                        5.650   Durbin-Watson:                   1.789\n",
       "Prob(Omnibus):                  0.059   Jarque-Bera (JB):                4.041\n",
       "Skew:                           0.916   Prob(JB):                        0.133\n",
       "Kurtosis:                       3.484   Cond. No.                     3.84e+03\n",
       "==============================================================================\n",
       "\n",
       "Notes:\n",
       "[1] Standard Errors assume that the covariance matrix of the errors is correctly specified.\n",
       "[2] The condition number is large, 3.84e+03. This might indicate that there are\n",
       "strong multicollinearity or other numerical problems.\n",
       "\"\"\""
      ]
     },
     "execution_count": 22,
     "metadata": {},
     "output_type": "execute_result"
    }
   ],
   "source": [
    "X2 = sm.add_constant(X)\n",
    "reg = sm.OLS(y, X2)\n",
    "results = reg.fit()\n",
    "results.summary()"
   ]
  },
  {
   "cell_type": "code",
   "execution_count": null,
   "metadata": {},
   "outputs": [],
   "source": []
  },
  {
   "cell_type": "code",
   "execution_count": null,
   "metadata": {},
   "outputs": [],
   "source": []
  },
  {
   "cell_type": "code",
   "execution_count": null,
   "metadata": {},
   "outputs": [],
   "source": []
  }
 ],
 "metadata": {
  "kernelspec": {
   "display_name": "Python 3 (ipykernel)",
   "language": "python",
   "name": "python3"
  },
  "language_info": {
   "codemirror_mode": {
    "name": "ipython",
    "version": 3
   },
   "file_extension": ".py",
   "mimetype": "text/x-python",
   "name": "python",
   "nbconvert_exporter": "python",
   "pygments_lexer": "ipython3",
   "version": "3.8.11"
  }
 },
 "nbformat": 4,
 "nbformat_minor": 4
}
